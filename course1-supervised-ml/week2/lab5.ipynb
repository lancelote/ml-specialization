{
 "cells": [
  {
   "cell_type": "code",
   "execution_count": 32,
   "outputs": [],
   "source": [
    "import numpy as np\n",
    "from sklearn.preprocessing import StandardScaler\n",
    "from sklearn.linear_model import SGDRegressor"
   ],
   "metadata": {
    "collapsed": false,
    "ExecuteTime": {
     "start_time": "2023-03-19T23:29:29.466994Z",
     "end_time": "2023-03-19T23:29:29.488514Z"
    }
   }
  },
  {
   "cell_type": "code",
   "execution_count": 33,
   "outputs": [],
   "source": [
    "def load_house_data():\n",
    "    data = np.loadtxt(\"./data/houses.txt\", delimiter=\",\", skiprows=1)\n",
    "    x = data[:, :4]\n",
    "    y = data[:, 4]\n",
    "    return x, y"
   ],
   "metadata": {
    "collapsed": false,
    "ExecuteTime": {
     "start_time": "2023-03-19T23:29:29.472598Z",
     "end_time": "2023-03-19T23:29:29.489218Z"
    }
   }
  },
  {
   "cell_type": "code",
   "execution_count": 34,
   "outputs": [],
   "source": [
    "x_train, y_train = load_house_data()\n",
    "x_labels = ['size(sqft)', 'bedrooms', 'floors', 'age']"
   ],
   "metadata": {
    "collapsed": false,
    "ExecuteTime": {
     "start_time": "2023-03-19T23:29:29.476605Z",
     "end_time": "2023-03-19T23:29:29.489315Z"
    }
   }
  },
  {
   "cell_type": "code",
   "execution_count": 35,
   "outputs": [],
   "source": [
    "scaler = StandardScaler()\n",
    "x_norm = scaler.fit_transform(x_train)"
   ],
   "metadata": {
    "collapsed": false,
    "ExecuteTime": {
     "start_time": "2023-03-19T23:29:29.483820Z",
     "end_time": "2023-03-19T23:29:29.489394Z"
    }
   }
  },
  {
   "cell_type": "code",
   "execution_count": 36,
   "outputs": [
    {
     "name": "stdout",
     "output_type": "stream",
     "text": [
      "peak-to-peak raw: [2.406e+03 4.000e+00 1.000e+00 9.500e+01]\n",
      "peak-to-peak normalized: [5.8452591  6.13529646 2.05626214 3.68533012]\n"
     ]
    }
   ],
   "source": [
    "print(f\"peak-to-peak raw: {np.ptp(x_train, axis=0)}\")\n",
    "print(f\"peak-to-peak normalized: {np.ptp(x_norm, axis=0)}\")"
   ],
   "metadata": {
    "collapsed": false,
    "ExecuteTime": {
     "start_time": "2023-03-19T23:29:29.490678Z",
     "end_time": "2023-03-19T23:29:29.494064Z"
    }
   }
  },
  {
   "cell_type": "code",
   "execution_count": 37,
   "outputs": [
    {
     "name": "stdout",
     "output_type": "stream",
     "text": [
      "SGDRegressor()\n",
      "iteration completed: 129\n",
      "number of weight updates: 12772.0\n"
     ]
    }
   ],
   "source": [
    "sgdr = SGDRegressor(max_iter=1000)\n",
    "sgdr.fit(x_norm, y_train)\n",
    "\n",
    "print(sgdr)\n",
    "print(f\"iteration completed: {sgdr.n_iter_}\")\n",
    "print(f\"number of weight updates: {sgdr.t_}\")"
   ],
   "metadata": {
    "collapsed": false,
    "ExecuteTime": {
     "start_time": "2023-03-19T23:29:29.494746Z",
     "end_time": "2023-03-19T23:29:29.498713Z"
    }
   }
  },
  {
   "cell_type": "code",
   "execution_count": 38,
   "outputs": [
    {
     "name": "stdout",
     "output_type": "stream",
     "text": [
      "model parameters:                   w: [110.27 -21.04 -32.45 -38.02], b:[363.17]\n",
      "model parameters from previous lab: w: [110.56 -21.27 -32.71 -37.97], b:[363.16]\n"
     ]
    }
   ],
   "source": [
    "w_norm = sgdr.coef_\n",
    "b_norm = sgdr.intercept_\n",
    "\n",
    "with np.printoptions(precision=2, suppress=True):\n",
    "    print(f\"model parameters:                   w: {w_norm}, b:{b_norm}\")\n",
    "    print( \"model parameters from previous lab: w: [110.56 -21.27 -32.71 -37.97], b:[363.16]\")"
   ],
   "metadata": {
    "collapsed": false,
    "ExecuteTime": {
     "start_time": "2023-03-19T23:29:29.500163Z",
     "end_time": "2023-03-19T23:29:29.502867Z"
    }
   }
  },
  {
   "cell_type": "code",
   "execution_count": 39,
   "outputs": [
    {
     "name": "stdout",
     "output_type": "stream",
     "text": [
      "prediction using `np.dot()` and `sgdr.predict` match: True\n",
      "prediction: [295.16 486.07 389.73 492.24]\n",
      "target    : [300.  509.8 394.  540. ]\n"
     ]
    }
   ],
   "source": [
    "y_pred_sgd = sgdr.predict(x_norm)\n",
    "y_pred = x_norm @ w_norm + b_norm\n",
    "\n",
    "with np.printoptions(precision=2, suppress=False):\n",
    "    print(f\"prediction using `np.dot()` and `sgdr.predict` match: {(y_pred == y_pred_sgd).all()}\")\n",
    "    print(f\"prediction: {y_pred[:4]}\")\n",
    "    print(f\"target    : {y_train[:4]}\")"
   ],
   "metadata": {
    "collapsed": false,
    "ExecuteTime": {
     "start_time": "2023-03-19T23:29:29.505152Z",
     "end_time": "2023-03-19T23:29:29.507577Z"
    }
   }
  }
 ],
 "metadata": {
  "kernelspec": {
   "display_name": "Python 3",
   "language": "python",
   "name": "python3"
  },
  "language_info": {
   "codemirror_mode": {
    "name": "ipython",
    "version": 2
   },
   "file_extension": ".py",
   "mimetype": "text/x-python",
   "name": "python",
   "nbconvert_exporter": "python",
   "pygments_lexer": "ipython2",
   "version": "2.7.6"
  }
 },
 "nbformat": 4,
 "nbformat_minor": 0
}
